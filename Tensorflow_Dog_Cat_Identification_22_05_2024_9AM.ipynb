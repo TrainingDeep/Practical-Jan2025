{
  "nbformat": 4,
  "nbformat_minor": 0,
  "metadata": {
    "colab": {
      "provenance": []
    },
    "kernelspec": {
      "name": "python3",
      "display_name": "Python 3"
    }
  },
  "cells": [
    {
      "cell_type": "code",
      "metadata": {
        "colab": {
          "base_uri": "https://localhost:8080/"
        },
        "id": "cXVn-eqOEpfU",
        "outputId": "9512bfff-0a2e-4a1c-9cee-80f905d350bc"
      },
      "source": [
        "%tensorflow_version 2.0.0\n",
        "import tensorflow as tf\n",
        "from tensorflow.keras import Sequential,Model\n",
        "from tensorflow.keras.layers import Dense,Dropout,Flatten,BatchNormalization\n",
        "from tensorflow.keras.applications.vgg16 import VGG16,preprocess_input\n",
        "from tensorflow.keras.preprocessing.image import ImageDataGenerator\n",
        "import numpy as np\n",
        "import pandas as pd\n",
        "import matplotlib.pyplot as plt\n",
        "%matplotlib inline\n",
        "\n"
      ],
      "execution_count": null,
      "outputs": [
        {
          "output_type": "stream",
          "name": "stdout",
          "text": [
            "Colab only includes TensorFlow 2.x; %tensorflow_version has no effect.\n"
          ]
        }
      ]
    },
    {
      "cell_type": "code",
      "metadata": {
        "colab": {
          "base_uri": "https://localhost:8080/",
          "height": 35
        },
        "id": "7dWQOp-RZo91",
        "outputId": "c1dcb619-867e-4d07-c694-a626c69b41c9"
      },
      "source": [
        "tf.__version__"
      ],
      "execution_count": null,
      "outputs": [
        {
          "output_type": "execute_result",
          "data": {
            "text/plain": [
              "'2.15.0'"
            ],
            "application/vnd.google.colaboratory.intrinsic+json": {
              "type": "string"
            }
          },
          "metadata": {},
          "execution_count": 2
        }
      ]
    },
    {
      "cell_type": "code",
      "metadata": {
        "colab": {
          "base_uri": "https://localhost:8080/"
        },
        "id": "vvCWu2ntEvkE",
        "outputId": "bbe8f8f5-60e2-492a-9fd5-1ee3108bd781"
      },
      "source": [
        "from google.colab import drive\n",
        "drive.mount('/content/drive')\n"
      ],
      "execution_count": null,
      "outputs": [
        {
          "output_type": "stream",
          "name": "stdout",
          "text": [
            "Mounted at /content/drive\n"
          ]
        }
      ]
    },
    {
      "cell_type": "code",
      "metadata": {
        "colab": {
          "base_uri": "https://localhost:8080/"
        },
        "id": "tOF3qESDE7IS",
        "outputId": "4913faaa-1512-45ff-dd65-e647566c27c3"
      },
      "source": [
        "cd /content/drive/MyDrive"
      ],
      "execution_count": null,
      "outputs": [
        {
          "output_type": "stream",
          "name": "stdout",
          "text": [
            "/content/drive/MyDrive\n"
          ]
        }
      ]
    },
    {
      "cell_type": "code",
      "metadata": {
        "colab": {
          "base_uri": "https://localhost:8080/"
        },
        "id": "KFwrJaCCFBot",
        "outputId": "f383cf0f-efd2-4bcd-dc2f-5ddb921db169"
      },
      "source": [
        "!unzip cat_dog_dataset"
      ],
      "execution_count": null,
      "outputs": [
        {
          "output_type": "stream",
          "name": "stdout",
          "text": [
            "Archive:  cat_dog_dataset.zip\n",
            "   creating: cat_dog_dataset/\n",
            "   creating: cat_dog_dataset/train/\n",
            "   creating: cat_dog_dataset/train/cat/\n",
            "  inflating: cat_dog_dataset/train/cat/cat.101.jpg  \n",
            "  inflating: cat_dog_dataset/train/cat/cat.104.jpg  \n",
            "  inflating: cat_dog_dataset/train/cat/cat.105.jpg  \n",
            "  inflating: cat_dog_dataset/train/cat/cat.115.jpg  \n",
            "  inflating: cat_dog_dataset/train/cat/cat.12.jpg  \n",
            "  inflating: cat_dog_dataset/train/cat/cat.140.jpg  \n",
            "  inflating: cat_dog_dataset/train/cat/cat.146.jpg  \n",
            "  inflating: cat_dog_dataset/train/cat/cat.148.jpg  \n",
            "  inflating: cat_dog_dataset/train/cat/cat.153.jpg  \n",
            "  inflating: cat_dog_dataset/train/cat/cat.154.jpg  \n",
            "  inflating: cat_dog_dataset/train/cat/cat.157.jpg  \n",
            "  inflating: cat_dog_dataset/train/cat/cat.165.jpg  \n",
            "  inflating: cat_dog_dataset/train/cat/cat.168.jpg  \n",
            "  inflating: cat_dog_dataset/train/cat/cat.172.jpg  \n",
            "  inflating: cat_dog_dataset/train/cat/cat.175.jpg  \n",
            "  inflating: cat_dog_dataset/train/cat/cat.181.jpg  \n",
            "  inflating: cat_dog_dataset/train/cat/cat.183.jpg  \n",
            "  inflating: cat_dog_dataset/train/cat/cat.186.jpg  \n",
            "  inflating: cat_dog_dataset/train/cat/cat.188.jpg  \n",
            "  inflating: cat_dog_dataset/train/cat/cat.19.jpg  \n",
            "  inflating: cat_dog_dataset/train/cat/cat.193.jpg  \n",
            "  inflating: cat_dog_dataset/train/cat/cat.202.jpg  \n",
            "  inflating: cat_dog_dataset/train/cat/cat.204.jpg  \n",
            "  inflating: cat_dog_dataset/train/cat/cat.211.jpg  \n",
            "  inflating: cat_dog_dataset/train/cat/cat.214.jpg  \n",
            "  inflating: cat_dog_dataset/train/cat/cat.217.jpg  \n",
            "  inflating: cat_dog_dataset/train/cat/cat.234.jpg  \n",
            "  inflating: cat_dog_dataset/train/cat/cat.244.jpg  \n",
            "  inflating: cat_dog_dataset/train/cat/cat.283.jpg  \n",
            "  inflating: cat_dog_dataset/train/cat/cat.284.jpg  \n",
            "  inflating: cat_dog_dataset/train/cat/cat.287.jpg  \n",
            "  inflating: cat_dog_dataset/train/cat/cat.289.jpg  \n",
            "  inflating: cat_dog_dataset/train/cat/cat.291.jpg  \n",
            "  inflating: cat_dog_dataset/train/cat/cat.313.jpg  \n",
            "  inflating: cat_dog_dataset/train/cat/cat.317.jpg  \n",
            "  inflating: cat_dog_dataset/train/cat/cat.319.jpg  \n",
            "  inflating: cat_dog_dataset/train/cat/cat.322.jpg  \n",
            "  inflating: cat_dog_dataset/train/cat/cat.332.jpg  \n",
            "  inflating: cat_dog_dataset/train/cat/cat.334.jpg  \n",
            "  inflating: cat_dog_dataset/train/cat/cat.336.jpg  \n",
            "  inflating: cat_dog_dataset/train/cat/cat.340.jpg  \n",
            "  inflating: cat_dog_dataset/train/cat/cat.342.jpg  \n",
            "  inflating: cat_dog_dataset/train/cat/cat.346.jpg  \n",
            "  inflating: cat_dog_dataset/train/cat/cat.351.jpg  \n",
            "  inflating: cat_dog_dataset/train/cat/cat.355.jpg  \n",
            "  inflating: cat_dog_dataset/train/cat/cat.378.jpg  \n",
            "  inflating: cat_dog_dataset/train/cat/cat.379.jpg  \n",
            "  inflating: cat_dog_dataset/train/cat/cat.382.jpg  \n",
            "  inflating: cat_dog_dataset/train/cat/cat.391.jpg  \n",
            "  inflating: cat_dog_dataset/train/cat/cat.398.jpg  \n",
            "  inflating: cat_dog_dataset/train/cat/cat.399.jpg  \n",
            "  inflating: cat_dog_dataset/train/cat/cat.409.jpg  \n",
            "  inflating: cat_dog_dataset/train/cat/cat.411.jpg  \n",
            "  inflating: cat_dog_dataset/train/cat/cat.413.jpg  \n",
            "  inflating: cat_dog_dataset/train/cat/cat.416.jpg  \n",
            "  inflating: cat_dog_dataset/train/cat/cat.42.jpg  \n",
            "  inflating: cat_dog_dataset/train/cat/cat.424.jpg  \n",
            "  inflating: cat_dog_dataset/train/cat/cat.425.jpg  \n",
            "  inflating: cat_dog_dataset/train/cat/cat.428.jpg  \n",
            "  inflating: cat_dog_dataset/train/cat/cat.432.jpg  \n",
            "  inflating: cat_dog_dataset/train/cat/cat.437.jpg  \n",
            "  inflating: cat_dog_dataset/train/cat/cat.44.jpg  \n",
            "  inflating: cat_dog_dataset/train/cat/cat.440.jpg  \n",
            "  inflating: cat_dog_dataset/train/cat/cat.449.jpg  \n",
            "  inflating: cat_dog_dataset/train/cat/cat.453.jpg  \n",
            "  inflating: cat_dog_dataset/train/cat/cat.458.jpg  \n",
            "  inflating: cat_dog_dataset/train/cat/cat.459.jpg  \n",
            "  inflating: cat_dog_dataset/train/cat/cat.460.jpg  \n",
            "  inflating: cat_dog_dataset/train/cat/cat.464.jpg  \n",
            "  inflating: cat_dog_dataset/train/cat/cat.47.jpg  \n",
            "  inflating: cat_dog_dataset/train/cat/cat.48.jpg  \n",
            "  inflating: cat_dog_dataset/train/cat/cat.480.jpg  \n",
            "  inflating: cat_dog_dataset/train/cat/cat.482.jpg  \n",
            "  inflating: cat_dog_dataset/train/cat/cat.485.jpg  \n",
            "  inflating: cat_dog_dataset/train/cat/cat.487.jpg  \n",
            "  inflating: cat_dog_dataset/train/cat/cat.489.jpg  \n",
            "  inflating: cat_dog_dataset/train/cat/cat.492.jpg  \n",
            "  inflating: cat_dog_dataset/train/cat/cat.496.jpg  \n",
            "  inflating: cat_dog_dataset/train/cat/cat.5.jpg  \n",
            "  inflating: cat_dog_dataset/train/cat/cat.50.jpg  \n",
            "  inflating: cat_dog_dataset/train/cat/cat.502.jpg  \n",
            "  inflating: cat_dog_dataset/train/cat/cat.505.jpg  \n",
            "  inflating: cat_dog_dataset/train/cat/cat.510.jpg  \n",
            "  inflating: cat_dog_dataset/train/cat/cat.513.jpg  \n",
            "  inflating: cat_dog_dataset/train/cat/cat.527.jpg  \n",
            "  inflating: cat_dog_dataset/train/cat/cat.538.jpg  \n",
            "  inflating: cat_dog_dataset/train/cat/cat.549.jpg  \n",
            "  inflating: cat_dog_dataset/train/cat/cat.551.jpg  \n",
            "  inflating: cat_dog_dataset/train/cat/cat.557.jpg  \n",
            "  inflating: cat_dog_dataset/train/cat/cat.558.jpg  \n",
            "  inflating: cat_dog_dataset/train/cat/cat.559.jpg  \n",
            "  inflating: cat_dog_dataset/train/cat/cat.60.jpg  \n",
            "  inflating: cat_dog_dataset/train/cat/cat.61.jpg  \n",
            "  inflating: cat_dog_dataset/train/cat/cat.68.jpg  \n",
            "  inflating: cat_dog_dataset/train/cat/cat.74.jpg  \n",
            "  inflating: cat_dog_dataset/train/cat/cat.77.jpg  \n",
            "  inflating: cat_dog_dataset/train/cat/cat.80.jpg  \n",
            "  inflating: cat_dog_dataset/train/cat/cat.95.jpg  \n",
            "  inflating: cat_dog_dataset/train/cat/cat.99.jpg  \n",
            "  inflating: cat_dog_dataset/train/cat/test.jpg  \n",
            "   creating: cat_dog_dataset/train/dog/\n",
            "  inflating: cat_dog_dataset/train/dog/dog.105.jpg  \n",
            "  inflating: cat_dog_dataset/train/dog/dog.11.jpg  \n",
            "  inflating: cat_dog_dataset/train/dog/dog.12.jpg  \n",
            "  inflating: cat_dog_dataset/train/dog/dog.126.jpg  \n",
            "  inflating: cat_dog_dataset/train/dog/dog.127.jpg  \n",
            "  inflating: cat_dog_dataset/train/dog/dog.129.jpg  \n",
            "  inflating: cat_dog_dataset/train/dog/dog.130.jpg  \n",
            "  inflating: cat_dog_dataset/train/dog/dog.135.jpg  \n",
            "  inflating: cat_dog_dataset/train/dog/dog.142.jpg  \n",
            "  inflating: cat_dog_dataset/train/dog/dog.149.jpg  \n",
            "  inflating: cat_dog_dataset/train/dog/dog.164.jpg  \n",
            "  inflating: cat_dog_dataset/train/dog/dog.168.jpg  \n",
            "  inflating: cat_dog_dataset/train/dog/dog.169.jpg  \n",
            "  inflating: cat_dog_dataset/train/dog/dog.174.jpg  \n",
            "  inflating: cat_dog_dataset/train/dog/dog.176.jpg  \n",
            "  inflating: cat_dog_dataset/train/dog/dog.18.jpg  \n",
            "  inflating: cat_dog_dataset/train/dog/dog.182.jpg  \n",
            "  inflating: cat_dog_dataset/train/dog/dog.183.jpg  \n",
            "  inflating: cat_dog_dataset/train/dog/dog.19.jpg  \n",
            "  inflating: cat_dog_dataset/train/dog/dog.194.jpg  \n",
            "  inflating: cat_dog_dataset/train/dog/dog.2.jpg  \n",
            "  inflating: cat_dog_dataset/train/dog/dog.208.jpg  \n",
            "  inflating: cat_dog_dataset/train/dog/dog.210.jpg  \n",
            "  inflating: cat_dog_dataset/train/dog/dog.217.jpg  \n",
            "  inflating: cat_dog_dataset/train/dog/dog.222.jpg  \n",
            "  inflating: cat_dog_dataset/train/dog/dog.232.jpg  \n",
            "  inflating: cat_dog_dataset/train/dog/dog.246.jpg  \n",
            "  inflating: cat_dog_dataset/train/dog/dog.251.jpg  \n",
            "  inflating: cat_dog_dataset/train/dog/dog.254.jpg  \n",
            "  inflating: cat_dog_dataset/train/dog/dog.259.jpg  \n",
            "  inflating: cat_dog_dataset/train/dog/dog.26.jpg  \n",
            "  inflating: cat_dog_dataset/train/dog/dog.266.jpg  \n",
            "  inflating: cat_dog_dataset/train/dog/dog.268.jpg  \n",
            "  inflating: cat_dog_dataset/train/dog/dog.274.jpg  \n",
            "  inflating: cat_dog_dataset/train/dog/dog.279.jpg  \n",
            "  inflating: cat_dog_dataset/train/dog/dog.281.jpg  \n",
            "  inflating: cat_dog_dataset/train/dog/dog.283.jpg  \n",
            "  inflating: cat_dog_dataset/train/dog/dog.284.jpg  \n",
            "  inflating: cat_dog_dataset/train/dog/dog.296.jpg  \n",
            "  inflating: cat_dog_dataset/train/dog/dog.297.jpg  \n",
            "  inflating: cat_dog_dataset/train/dog/dog.298.jpg  \n",
            "  inflating: cat_dog_dataset/train/dog/dog.301.jpg  \n",
            "  inflating: cat_dog_dataset/train/dog/dog.306.jpg  \n",
            "  inflating: cat_dog_dataset/train/dog/dog.316.jpg  \n",
            "  inflating: cat_dog_dataset/train/dog/dog.319.jpg  \n",
            "  inflating: cat_dog_dataset/train/dog/dog.326.jpg  \n",
            "  inflating: cat_dog_dataset/train/dog/dog.327.jpg  \n",
            "  inflating: cat_dog_dataset/train/dog/dog.329.jpg  \n",
            "  inflating: cat_dog_dataset/train/dog/dog.334.jpg  \n",
            "  inflating: cat_dog_dataset/train/dog/dog.335.jpg  \n",
            "  inflating: cat_dog_dataset/train/dog/dog.337.jpg  \n",
            "  inflating: cat_dog_dataset/train/dog/dog.340.jpg  \n",
            "  inflating: cat_dog_dataset/train/dog/dog.344.jpg  \n",
            "  inflating: cat_dog_dataset/train/dog/dog.346.jpg  \n",
            "  inflating: cat_dog_dataset/train/dog/dog.347.jpg  \n",
            "  inflating: cat_dog_dataset/train/dog/dog.348.jpg  \n",
            "  inflating: cat_dog_dataset/train/dog/dog.35.jpg  \n",
            "  inflating: cat_dog_dataset/train/dog/dog.350.jpg  \n",
            "  inflating: cat_dog_dataset/train/dog/dog.354.jpg  \n",
            "  inflating: cat_dog_dataset/train/dog/dog.36.jpg  \n",
            "  inflating: cat_dog_dataset/train/dog/dog.373.jpg  \n",
            "  inflating: cat_dog_dataset/train/dog/dog.374.jpg  \n",
            "  inflating: cat_dog_dataset/train/dog/dog.381.jpg  \n",
            "  inflating: cat_dog_dataset/train/dog/dog.391.jpg  \n",
            "  inflating: cat_dog_dataset/train/dog/dog.40.jpg  \n",
            "  inflating: cat_dog_dataset/train/dog/dog.401.jpg  \n",
            "  inflating: cat_dog_dataset/train/dog/dog.404.jpg  \n",
            "  inflating: cat_dog_dataset/train/dog/dog.407.jpg  \n",
            "  inflating: cat_dog_dataset/train/dog/dog.41.jpg  \n",
            "  inflating: cat_dog_dataset/train/dog/dog.410.jpg  \n",
            "  inflating: cat_dog_dataset/train/dog/dog.411.jpg  \n",
            "  inflating: cat_dog_dataset/train/dog/dog.412.jpg  \n",
            "  inflating: cat_dog_dataset/train/dog/dog.414.jpg  \n",
            "  inflating: cat_dog_dataset/train/dog/dog.415.jpg  \n",
            "  inflating: cat_dog_dataset/train/dog/dog.418.jpg  \n",
            "  inflating: cat_dog_dataset/train/dog/dog.425.jpg  \n",
            "  inflating: cat_dog_dataset/train/dog/dog.43.jpg  \n",
            "  inflating: cat_dog_dataset/train/dog/dog.433.jpg  \n",
            "  inflating: cat_dog_dataset/train/dog/dog.434.jpg  \n",
            "  inflating: cat_dog_dataset/train/dog/dog.441.jpg  \n",
            "  inflating: cat_dog_dataset/train/dog/dog.443.jpg  \n",
            "  inflating: cat_dog_dataset/train/dog/dog.46.jpg  \n",
            "  inflating: cat_dog_dataset/train/dog/dog.462.jpg  \n",
            "  inflating: cat_dog_dataset/train/dog/dog.482.jpg  \n",
            "  inflating: cat_dog_dataset/train/dog/dog.486.jpg  \n",
            "  inflating: cat_dog_dataset/train/dog/dog.487.jpg  \n",
            "  inflating: cat_dog_dataset/train/dog/dog.498.jpg  \n",
            "  inflating: cat_dog_dataset/train/dog/dog.50.jpg  \n",
            "  inflating: cat_dog_dataset/train/dog/dog.502.jpg  \n",
            "  inflating: cat_dog_dataset/train/dog/dog.65.jpg  \n",
            "  inflating: cat_dog_dataset/train/dog/dog.68.jpg  \n",
            "  inflating: cat_dog_dataset/train/dog/dog.69.jpg  \n",
            "  inflating: cat_dog_dataset/train/dog/dog.73.jpg  \n",
            "  inflating: cat_dog_dataset/train/dog/dog.76.jpg  \n",
            "  inflating: cat_dog_dataset/train/dog/dog.79.jpg  \n",
            "  inflating: cat_dog_dataset/train/dog/dog.81.jpg  \n",
            "  inflating: cat_dog_dataset/train/dog/dog.85.jpg  \n",
            "  inflating: cat_dog_dataset/train/dog/dog.86.jpg  \n",
            "  inflating: cat_dog_dataset/train/dog/dog.91.jpg  \n",
            "  inflating: cat_dog_dataset/train/dog/dog.92.jpg  \n",
            "   creating: cat_dog_dataset/valid/\n",
            "   creating: cat_dog_dataset/valid/cat/\n",
            "  inflating: cat_dog_dataset/valid/cat/cat.101.jpg  \n",
            "  inflating: cat_dog_dataset/valid/cat/cat.104.jpg  \n",
            "  inflating: cat_dog_dataset/valid/cat/cat.105.jpg  \n",
            "  inflating: cat_dog_dataset/valid/cat/cat.12.jpg  \n",
            "  inflating: cat_dog_dataset/valid/cat/cat.19.jpg  \n",
            "  inflating: cat_dog_dataset/valid/cat/cat.42.jpg  \n",
            "  inflating: cat_dog_dataset/valid/cat/cat.44.jpg  \n",
            "  inflating: cat_dog_dataset/valid/cat/cat.47.jpg  \n",
            "  inflating: cat_dog_dataset/valid/cat/cat.48.jpg  \n",
            "  inflating: cat_dog_dataset/valid/cat/cat.5.jpg  \n",
            "  inflating: cat_dog_dataset/valid/cat/cat.50.jpg  \n",
            "  inflating: cat_dog_dataset/valid/cat/cat.60.jpg  \n",
            "  inflating: cat_dog_dataset/valid/cat/cat.61.jpg  \n",
            "  inflating: cat_dog_dataset/valid/cat/cat.68.jpg  \n",
            "  inflating: cat_dog_dataset/valid/cat/cat.74.jpg  \n",
            "  inflating: cat_dog_dataset/valid/cat/cat.77.jpg  \n",
            "  inflating: cat_dog_dataset/valid/cat/cat.80.jpg  \n",
            "  inflating: cat_dog_dataset/valid/cat/cat.95.jpg  \n",
            "  inflating: cat_dog_dataset/valid/cat/cat.99.jpg  \n",
            "   creating: cat_dog_dataset/valid/dog/\n",
            "  inflating: cat_dog_dataset/valid/dog/dog.105.jpg  \n",
            "  inflating: cat_dog_dataset/valid/dog/dog.11.jpg  \n",
            "  inflating: cat_dog_dataset/valid/dog/dog.12.jpg  \n",
            "  inflating: cat_dog_dataset/valid/dog/dog.126.jpg  \n",
            "  inflating: cat_dog_dataset/valid/dog/dog.127.jpg  \n",
            "  inflating: cat_dog_dataset/valid/dog/dog.129.jpg  \n",
            "  inflating: cat_dog_dataset/valid/dog/dog.18.jpg  \n",
            "  inflating: cat_dog_dataset/valid/dog/dog.19.jpg  \n",
            "  inflating: cat_dog_dataset/valid/dog/dog.2.jpg  \n",
            "  inflating: cat_dog_dataset/valid/dog/dog.26.jpg  \n",
            "  inflating: cat_dog_dataset/valid/dog/dog.35.jpg  \n",
            "  inflating: cat_dog_dataset/valid/dog/dog.36.jpg  \n",
            "  inflating: cat_dog_dataset/valid/dog/dog.40.jpg  \n",
            "  inflating: cat_dog_dataset/valid/dog/dog.41.jpg  \n",
            "  inflating: cat_dog_dataset/valid/dog/dog.43.jpg  \n",
            "  inflating: cat_dog_dataset/valid/dog/dog.46.jpg  \n",
            "  inflating: cat_dog_dataset/valid/dog/dog.50.jpg  \n",
            "  inflating: cat_dog_dataset/valid/dog/dog.65.jpg  \n",
            "  inflating: cat_dog_dataset/valid/dog/dog.68.jpg  \n",
            "  inflating: cat_dog_dataset/valid/dog/dog.69.jpg  \n",
            "  inflating: cat_dog_dataset/valid/dog/dog.73.jpg  \n",
            "  inflating: cat_dog_dataset/valid/dog/dog.76.jpg  \n",
            "  inflating: cat_dog_dataset/valid/dog/dog.79.jpg  \n",
            "  inflating: cat_dog_dataset/valid/dog/dog.81.jpg  \n",
            "  inflating: cat_dog_dataset/valid/dog/dog.85.jpg  \n",
            "  inflating: cat_dog_dataset/valid/dog/dog.86.jpg  \n",
            "  inflating: cat_dog_dataset/valid/dog/dog.91.jpg  \n",
            "  inflating: cat_dog_dataset/valid/dog/dog.92.jpg  \n"
          ]
        }
      ]
    },
    {
      "cell_type": "code",
      "metadata": {
        "id": "17UwEdFbF9ir",
        "colab": {
          "base_uri": "https://localhost:8080/"
        },
        "outputId": "b6284d64-a3f1-44ee-f933-d39cac16706d"
      },
      "source": [
        "# Importing the Keras libraries and packages\n",
        "from keras.models import Sequential\n",
        "from keras.layers import Conv2D\n",
        "from keras.layers import MaxPooling2D\n",
        "from keras.layers import Flatten\n",
        "from keras.layers import Dense\n",
        "from keras import losses\n",
        "from keras import optimizers\n",
        "from keras import metrics\n",
        "# Initialising the CNN\n",
        "classifier = Sequential()\n",
        "# Step 1 - Convolution\n",
        "classifier.add(Conv2D(32, (3, 3), input_shape = (64, 64, 3), activation = 'relu'))\n",
        "# Step 2 - Pooling\n",
        "classifier.add(MaxPooling2D(pool_size = (2, 2)))\n",
        "# Adding a second convolutional layer\n",
        "classifier.add(Conv2D(32, (3, 3), activation = 'relu'))\n",
        "classifier.add(MaxPooling2D(pool_size = (2, 2)))\n",
        "# Step 3 - Flattening\n",
        "classifier.add(Flatten())\n",
        "# Step 4 - Full connection\n",
        "classifier.add(Dense(units = 128, activation = 'relu'))\n",
        "classifier.add(Dense(units = 1, activation = 'sigmoid'))\n",
        "classifier.summary()"
      ],
      "execution_count": null,
      "outputs": [
        {
          "output_type": "stream",
          "name": "stdout",
          "text": [
            "Model: \"sequential\"\n",
            "_________________________________________________________________\n",
            " Layer (type)                Output Shape              Param #   \n",
            "=================================================================\n",
            " conv2d (Conv2D)             (None, 62, 62, 32)        896       \n",
            "                                                                 \n",
            " max_pooling2d (MaxPooling2  (None, 31, 31, 32)        0         \n",
            " D)                                                              \n",
            "                                                                 \n",
            " conv2d_1 (Conv2D)           (None, 29, 29, 32)        9248      \n",
            "                                                                 \n",
            " max_pooling2d_1 (MaxPoolin  (None, 14, 14, 32)        0         \n",
            " g2D)                                                            \n",
            "                                                                 \n",
            " flatten (Flatten)           (None, 6272)              0         \n",
            "                                                                 \n",
            " dense (Dense)               (None, 128)               802944    \n",
            "                                                                 \n",
            " dense_1 (Dense)             (None, 1)                 129       \n",
            "                                                                 \n",
            "=================================================================\n",
            "Total params: 813217 (3.10 MB)\n",
            "Trainable params: 813217 (3.10 MB)\n",
            "Non-trainable params: 0 (0.00 Byte)\n",
            "_________________________________________________________________\n"
          ]
        }
      ]
    },
    {
      "cell_type": "code",
      "metadata": {
        "id": "L8oSsnfMfPNx"
      },
      "source": [
        "# Compiling the CNN\n",
        "classifier.compile(optimizer = 'adam', loss = 'binary_crossentropy', metrics = ['accuracy'])\n",
        "#binary_crossentropy\n",
        "#https://keras.io/api/losses/probabilistic_losses/#binarycrossentropy-class\n",
        "\n",
        "#classifier.compile(optimizer = 'sgd',loss = 'mean_squared_error', metrics = [metrics.categorical_accuracy])"
      ],
      "execution_count": null,
      "outputs": []
    },
    {
      "cell_type": "code",
      "metadata": {
        "colab": {
          "base_uri": "https://localhost:8080/"
        },
        "id": "kjG38KNoIMD1",
        "outputId": "49d6a920-0a52-41ab-a3e4-284c1b7bb057"
      },
      "source": [
        "# Part 2 - Fitting the CNN to the images\n",
        "from keras.preprocessing.image import ImageDataGenerator\n",
        "\n",
        "train_datagen = ImageDataGenerator(rescale = 1./255,\n",
        "shear_range = 0.2,\n",
        "zoom_range = 0.2,\n",
        "horizontal_flip = True)\n",
        "\n",
        "test_datagen = ImageDataGenerator(rescale = 1./255)\n",
        "#/content/drive/MyDrive/Datasets/Train\n",
        "india_training_set = train_datagen.flow_from_directory('/content/drive/MyDrive/cat_dog_dataset/train',\n",
        "target_size = (64, 64),\n",
        "batch_size = 32,\n",
        "class_mode = 'binary')\n",
        "\n",
        "india_test_set = test_datagen.flow_from_directory('/content/drive/MyDrive/cat_dog_dataset/valid',\n",
        "target_size = (64, 64),\n",
        "batch_size = 32,\n",
        "class_mode = 'binary')\n",
        "\n",
        "#https://towardsdatascience.com/convolutional-neural-network-feature-map-and-filter-visualization-f75012a5a49c"
      ],
      "execution_count": null,
      "outputs": [
        {
          "output_type": "stream",
          "name": "stdout",
          "text": [
            "Found 200 images belonging to 2 classes.\n",
            "Found 47 images belonging to 2 classes.\n"
          ]
        }
      ]
    },
    {
      "cell_type": "code",
      "metadata": {
        "colab": {
          "base_uri": "https://localhost:8080/"
        },
        "id": "-HfofvH-h8zG",
        "outputId": "87e6e094-a53f-4a41-e8ea-269de419aa56"
      },
      "source": [
        "# fit the model\n",
        "# Run the cell. It will take some time to execute\n",
        "r = classifier.fit_generator(\n",
        "  india_training_set,\n",
        "  validation_data=india_test_set,\n",
        "  epochs=25,\n",
        "  steps_per_epoch=len(india_training_set),\n",
        "  validation_steps=len(india_test_set)\n",
        ")"
      ],
      "execution_count": null,
      "outputs": [
        {
          "output_type": "stream",
          "name": "stderr",
          "text": [
            "<ipython-input-9-584fce14d33c>:3: UserWarning: `Model.fit_generator` is deprecated and will be removed in a future version. Please use `Model.fit`, which supports generators.\n",
            "  r = classifier.fit_generator(\n"
          ]
        },
        {
          "output_type": "stream",
          "name": "stdout",
          "text": [
            "Epoch 1/25\n",
            "7/7 [==============================] - 4s 309ms/step - loss: 0.8291 - accuracy: 0.4350 - val_loss: 0.6733 - val_accuracy: 0.5957\n",
            "Epoch 2/25\n",
            "7/7 [==============================] - 2s 327ms/step - loss: 0.6990 - accuracy: 0.4550 - val_loss: 0.6935 - val_accuracy: 0.4043\n",
            "Epoch 3/25\n",
            "7/7 [==============================] - 3s 464ms/step - loss: 0.6927 - accuracy: 0.5200 - val_loss: 0.6924 - val_accuracy: 0.5319\n",
            "Epoch 4/25\n",
            "7/7 [==============================] - 3s 352ms/step - loss: 0.6916 - accuracy: 0.5600 - val_loss: 0.6867 - val_accuracy: 0.5957\n",
            "Epoch 5/25\n",
            "7/7 [==============================] - 2s 281ms/step - loss: 0.6881 - accuracy: 0.5800 - val_loss: 0.6724 - val_accuracy: 0.6170\n",
            "Epoch 6/25\n",
            "7/7 [==============================] - 2s 338ms/step - loss: 0.6864 - accuracy: 0.5150 - val_loss: 0.6619 - val_accuracy: 0.6170\n",
            "Epoch 7/25\n",
            "7/7 [==============================] - 3s 403ms/step - loss: 0.6799 - accuracy: 0.5550 - val_loss: 0.6505 - val_accuracy: 0.6170\n",
            "Epoch 8/25\n",
            "7/7 [==============================] - 2s 277ms/step - loss: 0.6692 - accuracy: 0.5850 - val_loss: 0.6559 - val_accuracy: 0.6809\n",
            "Epoch 9/25\n",
            "7/7 [==============================] - 2s 326ms/step - loss: 0.6856 - accuracy: 0.5200 - val_loss: 0.7040 - val_accuracy: 0.4255\n",
            "Epoch 10/25\n",
            "7/7 [==============================] - 2s 284ms/step - loss: 0.6765 - accuracy: 0.5650 - val_loss: 0.6573 - val_accuracy: 0.5957\n",
            "Epoch 11/25\n",
            "7/7 [==============================] - 2s 332ms/step - loss: 0.6896 - accuracy: 0.5200 - val_loss: 0.6613 - val_accuracy: 0.6383\n",
            "Epoch 12/25\n",
            "7/7 [==============================] - 3s 403ms/step - loss: 0.6682 - accuracy: 0.5950 - val_loss: 0.6481 - val_accuracy: 0.6809\n",
            "Epoch 13/25\n",
            "7/7 [==============================] - 2s 284ms/step - loss: 0.6599 - accuracy: 0.6400 - val_loss: 0.6469 - val_accuracy: 0.5745\n",
            "Epoch 14/25\n",
            "7/7 [==============================] - 2s 284ms/step - loss: 0.6328 - accuracy: 0.6500 - val_loss: 0.6096 - val_accuracy: 0.6170\n",
            "Epoch 15/25\n",
            "7/7 [==============================] - 2s 288ms/step - loss: 0.6076 - accuracy: 0.6750 - val_loss: 0.5713 - val_accuracy: 0.7021\n",
            "Epoch 16/25\n",
            "7/7 [==============================] - 2s 335ms/step - loss: 0.5988 - accuracy: 0.6950 - val_loss: 0.5534 - val_accuracy: 0.6809\n",
            "Epoch 17/25\n",
            "7/7 [==============================] - 2s 309ms/step - loss: 0.6029 - accuracy: 0.6700 - val_loss: 0.5143 - val_accuracy: 0.7660\n",
            "Epoch 18/25\n",
            "7/7 [==============================] - 4s 446ms/step - loss: 0.5781 - accuracy: 0.6750 - val_loss: 0.4699 - val_accuracy: 0.7234\n",
            "Epoch 19/25\n",
            "7/7 [==============================] - 2s 275ms/step - loss: 0.5407 - accuracy: 0.7650 - val_loss: 0.4569 - val_accuracy: 0.8511\n",
            "Epoch 20/25\n",
            "7/7 [==============================] - 2s 268ms/step - loss: 0.5313 - accuracy: 0.7250 - val_loss: 0.4199 - val_accuracy: 0.8085\n",
            "Epoch 21/25\n",
            "7/7 [==============================] - 2s 272ms/step - loss: 0.5182 - accuracy: 0.7450 - val_loss: 0.3959 - val_accuracy: 0.8085\n",
            "Epoch 22/25\n",
            "7/7 [==============================] - 2s 285ms/step - loss: 0.4873 - accuracy: 0.7800 - val_loss: 0.3623 - val_accuracy: 0.8723\n",
            "Epoch 23/25\n",
            "7/7 [==============================] - 3s 358ms/step - loss: 0.4749 - accuracy: 0.7900 - val_loss: 0.7142 - val_accuracy: 0.6170\n",
            "Epoch 24/25\n",
            "7/7 [==============================] - 3s 389ms/step - loss: 0.5730 - accuracy: 0.7050 - val_loss: 0.4479 - val_accuracy: 0.7872\n",
            "Epoch 25/25\n",
            "7/7 [==============================] - 2s 286ms/step - loss: 0.5097 - accuracy: 0.7350 - val_loss: 0.3689 - val_accuracy: 0.8723\n"
          ]
        }
      ]
    },
    {
      "cell_type": "code",
      "metadata": {
        "id": "AEW5ygd6lA0R",
        "colab": {
          "base_uri": "https://localhost:8080/"
        },
        "outputId": "e7711698-9dd6-42fe-8edf-c7904207c085"
      },
      "source": [
        "from tensorflow.keras.models import load_model\n",
        "\n",
        "classifier.save('Model_DogCat-identification.h5')"
      ],
      "execution_count": null,
      "outputs": [
        {
          "output_type": "stream",
          "name": "stderr",
          "text": [
            "/usr/local/lib/python3.10/dist-packages/keras/src/engine/training.py:3103: UserWarning: You are saving your model as an HDF5 file via `model.save()`. This file format is considered legacy. We recommend using instead the native Keras format, e.g. `model.save('my_model.keras')`.\n",
            "  saving_api.save_model(\n"
          ]
        }
      ]
    },
    {
      "cell_type": "code",
      "metadata": {
        "id": "6GbzHvComBzO"
      },
      "source": [
        "from tensorflow.keras.models import load_model\n",
        "from tensorflow.keras.preprocessing import image"
      ],
      "execution_count": null,
      "outputs": []
    },
    {
      "cell_type": "code",
      "metadata": {
        "id": "laz_mhnnmHwo"
      },
      "source": [
        "model=load_model('Model_DogCat-identification.h5')"
      ],
      "execution_count": null,
      "outputs": []
    },
    {
      "cell_type": "code",
      "metadata": {
        "colab": {
          "base_uri": "https://localhost:8080/"
        },
        "id": "s4Q3B9kbI55q",
        "outputId": "bb95654a-eaf5-4b7d-83a1-8faf090b0d3d"
      },
      "source": [
        "import numpy as np\n",
        "from keras.preprocessing import image\n",
        "print(india_training_set.class_indices)"
      ],
      "execution_count": null,
      "outputs": [
        {
          "output_type": "stream",
          "name": "stdout",
          "text": [
            "{'cat': 0, 'dog': 1}\n"
          ]
        }
      ]
    },
    {
      "cell_type": "code",
      "metadata": {
        "colab": {
          "base_uri": "https://localhost:8080/"
        },
        "id": "SFW__JEXJzVL",
        "outputId": "46f6713d-3ddd-4944-8c50-15d3390622e8"
      },
      "source": [
        "import numpy as np\n",
        "from keras.preprocessing import image\n",
        "test_image = image.load_img('/content/cat.jpeg', target_size = (64, 64))\n",
        "test_image = image.img_to_array(test_image)\n",
        "test_image = np.expand_dims(test_image, axis = 0)\n",
        "result = classifier.predict(test_image)\n",
        "print(india_training_set.class_indices)\n",
        "print(result)"
      ],
      "execution_count": null,
      "outputs": [
        {
          "output_type": "stream",
          "name": "stdout",
          "text": [
            "1/1 [==============================] - 0s 26ms/step\n",
            "{'cat': 0, 'dog': 1}\n",
            "[[0.]]\n"
          ]
        }
      ]
    },
    {
      "cell_type": "code",
      "metadata": {
        "colab": {
          "base_uri": "https://localhost:8080/"
        },
        "id": "7FVFWDGvkk1H",
        "outputId": "5265aa3d-2eaa-4264-f7be-2b5539a448ef"
      },
      "source": [
        "import numpy as np\n",
        "from keras.preprocessing import image\n",
        "test_image = image.load_img('/content/dog.jpg', target_size = (64, 64))\n",
        "test_image = image.img_to_array(test_image)\n",
        "test_image = np.expand_dims(test_image, axis = 0)\n",
        "result = classifier.predict(test_image)\n",
        "print(india_training_set.class_indices)\n",
        "print(result)"
      ],
      "execution_count": null,
      "outputs": [
        {
          "output_type": "stream",
          "name": "stdout",
          "text": [
            "1/1 [==============================] - 0s 22ms/step\n",
            "{'cat': 0, 'dog': 1}\n",
            "[[1.]]\n"
          ]
        }
      ]
    }
  ]
}